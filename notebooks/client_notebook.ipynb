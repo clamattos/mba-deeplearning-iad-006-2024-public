{
 "cells": [
  {
   "cell_type": "code",
   "execution_count": 36,
   "metadata": {},
   "outputs": [
    {
     "name": "stdout",
     "output_type": "stream",
     "text": [
      "Valor de predição: 0.0\n"
     ]
    }
   ],
   "source": [
    "######################## OBS. ##########################\n",
    "################ PARA RODAR O CONTAINER ################\n",
    "## Utilizar o comando: docker run -p 8000:8000 my-app ##\n",
    "########################################################\n",
    "\n",
    "import base64\n",
    "from PIL import Image\n",
    "import requests\n",
    "import io\n",
    "\n",
    "img = Image.open('/workspaces/mba-deeplearning-iad-006-2024-public/imagens/imagem_positiva.png')\n",
    "img = img.resize((8, 8))\n",
    "\n",
    "buffered = io.BytesIO()\n",
    "img.save(buffered, format=\"PNG\")\n",
    "img_str = base64.b64encode(buffered.getvalue()).decode('utf-8')\n",
    "\n",
    "################ INSERIR URL ################\n",
    "url = 'http://localhost:8000/predict'\n",
    "\n",
    "response = requests.post(url, json={'image': img_str})\n",
    "\n",
    "print(f'Valor de predição: {list(response.json().values())[0]}')\n"
   ]
  }
 ],
 "metadata": {
  "kernelspec": {
   "display_name": "Python 3",
   "language": "python",
   "name": "python3"
  },
  "language_info": {
   "codemirror_mode": {
    "name": "ipython",
    "version": 3
   },
   "file_extension": ".py",
   "mimetype": "text/x-python",
   "name": "python",
   "nbconvert_exporter": "python",
   "pygments_lexer": "ipython3",
   "version": "3.12.1"
  }
 },
 "nbformat": 4,
 "nbformat_minor": 2
}
